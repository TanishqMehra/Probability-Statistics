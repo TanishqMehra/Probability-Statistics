{
 "cells": [
  {
   "cell_type": "code",
   "execution_count": 372,
   "metadata": {},
   "outputs": [],
   "source": [
    "\n",
    "from sklearn.preprocessing import MinMaxScaler\n",
    "import math\n",
    "import pandas as pd\n",
    "import numpy as np\n",
    "import matplotlib.pyplot as plt\n",
    "import datetime as dt\n",
    "from datetime import date\n",
    "plt.style.use('ggplot')"
   ]
  },
  {
   "cell_type": "code",
   "execution_count": 330,
   "metadata": {},
   "outputs": [],
   "source": [
    "df2 = pd.read_csv('Weekly_U.S._Product_Supplied_of_Petroleum_Products.csv')\n",
    "wdf = pd.read_csv('US_confirmed_weekly.csv')"
   ]
  },
  {
   "cell_type": "code",
   "execution_count": 340,
   "metadata": {},
   "outputs": [],
   "source": [
    "df2 = df2[(df2['Week of'] >= '2020-01-24') & (df2['Week of'] <= '2021-04-09')]"
   ]
  },
  {
   "cell_type": "code",
   "execution_count": 128,
   "metadata": {},
   "outputs": [],
   "source": [
    "jet_df2 = pd.read_csv('jet_data.csv')"
   ]
  },
  {
   "cell_type": "code",
   "execution_count": 337,
   "metadata": {},
   "outputs": [],
   "source": [
    "df2 = df2.sort_values('Week of')"
   ]
  },
  {
   "cell_type": "code",
   "execution_count": 338,
   "metadata": {},
   "outputs": [],
   "source": [
    "jet_df2 = pd.read_csv('jet_data.csv')\n",
    "wdf = pd.read_csv('US_confirmed_weekly.csv')"
   ]
  },
  {
   "cell_type": "code",
   "execution_count": 264,
   "metadata": {},
   "outputs": [],
   "source": [
    "df2 = df2[(df2['Week of'] >= '2020-01-01') & (jet_df2['Week of'] <= '2020-07-01')]"
   ]
  },
  {
   "cell_type": "code",
   "execution_count": 265,
   "metadata": {},
   "outputs": [],
   "source": [
    "wdf = wdf[(wdf['Date'] >= '2020-01-01') & (wdf['Date'] <= '2020-07-01')]"
   ]
  },
  {
   "cell_type": "markdown",
   "metadata": {},
   "source": [
    "**Linear Regression to find the imapct of covid-19 on weekly supplied petroleum products**\n",
    "\n",
    "\n"
   ]
  },
  {
   "cell_type": "code",
   "execution_count": 365,
   "metadata": {},
   "outputs": [],
   "source": [
    "y = np.array(df2['Weekly U.S. Product Supplied of Petroleum Products Thousand Barrels per Day'].values).reshape(-1,1)\n",
    "x1 = np.array(jet_df2['Weekly U.S. Product Supplied of Kerosene-Type Jet Fuel Thousand Barrels per Day'].values).reshape(-1,1)\n",
    "x2 = np.array(wdf['All states'].values).reshape(-1,1)\n"
   ]
  },
  {
   "cell_type": "code",
   "execution_count": 371,
   "metadata": {},
   "outputs": [],
   "source": [
    "x_with_constant = np.ones_like(x1).reshape(-1,1)\n",
    "x_with_constant = np.concatenate([x_with_constant, x1], axis=1)\n",
    "# x_with_constant\n",
    "# x_with_constant2 = np.ones_like(x2).reshape(-1,1)\n",
    "x_with_constant = np.concatenate([x_with_constant, x2], axis=1)"
   ]
  },
  {
   "cell_type": "code",
   "execution_count": 369,
   "metadata": {},
   "outputs": [
    {
     "name": "stdout",
     "output_type": "stream",
     "text": [
      "betas [[1.36291344e+04]\n",
      " [4.36450610e+00]\n",
      " [2.99589512e-03]]\n",
      "value is  [[19598]\n",
      " [20810]\n",
      " [20965]\n",
      " [19602]\n",
      " [19870]\n",
      " [21265]\n",
      " [21875]\n",
      " [21456]\n",
      " [19420]\n",
      " [17852]\n",
      " [14437]\n",
      " [13797]\n",
      " [14103]\n",
      " [15763]\n",
      " [15354]\n",
      " [16814]\n",
      " [16586]\n",
      " [15958]\n",
      " [15066]\n",
      " [17573]\n",
      " [17290]\n",
      " [18348]\n",
      " [17353]\n",
      " [18120]\n",
      " [18480]\n",
      " [17654]\n",
      " [19094]\n",
      " [17912]\n",
      " [19369]\n",
      " [17159]\n",
      " [19619]\n",
      " [16979]\n",
      " [18678]\n",
      " [17027]\n",
      " [18439]\n",
      " [17447]\n",
      " [18345]\n",
      " [19475]\n",
      " [18112]\n",
      " [19631]\n",
      " [18362]\n",
      " [20180]\n",
      " [19564]\n",
      " [19156]\n",
      " [18468]\n",
      " [18534]\n",
      " [19335]\n",
      " [19088]\n",
      " [19317]\n",
      " [17054]\n",
      " [19607]\n",
      " [19642]\n",
      " [19681]\n",
      " [18528]\n",
      " [20183]\n",
      " [20668]\n",
      " [18688]\n",
      " [18759]\n",
      " [18672]\n",
      " [18933]\n",
      " [18702]\n",
      " [20313]\n",
      " [19236]\n",
      " [20328]]\n",
      "prediction is [[20917.86159857]\n",
      " [20861.12358989]\n",
      " [20891.67384865]\n",
      " [19665.2472061 ]\n",
      " [19957.66997088]\n",
      " [21079.34889497]\n",
      " [20459.67548151]\n",
      " [21202.44484667]\n",
      " [20030.34140621]\n",
      " [19491.46241104]\n",
      " [16999.00492432]\n",
      " [15743.25967631]\n",
      " [16386.76697968]\n",
      " [17207.4760204 ]\n",
      " [15960.87236465]\n",
      " [15242.2929729 ]\n",
      " [16463.5503273 ]\n",
      " [17449.65907571]\n",
      " [15372.59747871]\n",
      " [16806.78031217]\n",
      " [17130.46370571]\n",
      " [17216.099065  ]\n",
      " [16299.55166744]\n",
      " [17801.57329715]\n",
      " [19333.30830471]\n",
      " [18529.40649092]\n",
      " [18290.86559058]\n",
      " [18228.50799596]\n",
      " [18097.85896713]\n",
      " [18062.36548142]\n",
      " [18745.09564928]\n",
      " [17855.53228647]\n",
      " [17522.84331726]\n",
      " [17865.70703452]\n",
      " [17830.83155671]\n",
      " [17504.03816623]\n",
      " [17711.59431793]\n",
      " [18885.66605904]\n",
      " [18046.52061766]\n",
      " [18246.0678808 ]\n",
      " [17830.41211908]\n",
      " [19725.94564097]\n",
      " [18347.73117173]\n",
      " [19211.79817308]\n",
      " [19076.58570539]\n",
      " [19882.93781108]\n",
      " [19270.35592946]\n",
      " [19480.37273714]\n",
      " [19519.53072319]\n",
      " [18229.53237517]\n",
      " [20773.9933653 ]\n",
      " [19058.48465509]\n",
      " [19580.7075119 ]\n",
      " [17355.48177455]\n",
      " [19519.31230263]\n",
      " [19044.03352763]\n",
      " [18105.95498456]\n",
      " [19433.76016241]\n",
      " [17530.58042301]\n",
      " [18191.38971137]\n",
      " [18312.48791412]\n",
      " [19745.28441654]\n",
      " [19322.60893214]\n",
      " [19750.71109388]]\n",
      "mean_squared_error 4.2137247907487175e-05\n"
     ]
    }
   ],
   "source": [
    "def regression(X, y):\n",
    "    betas = np.linalg.inv(X.transpose().dot(X)).dot(X.transpose()).dot(y)\n",
    "    return betas\n",
    "betas = regression(x_with_constant, y)\n",
    "print('betas', betas)\n",
    "# calculating predicted y\n",
    "y_pred = betas[0] + betas[1] * x1 + betas[2] * x2\n",
    "print( 'value is ', y)\n",
    "print('prediction is', y_pred)\n",
    "y_true, y_pred = np.array(y), np.array(y_pred)\n",
    "        # MSE Error for MLR\n",
    "mean_squared_error = np.mean(np.square(y_true/np.linalg.norm(y_true) - y_pred/np.linalg.norm(y_pred)))\n",
    "print('mean_squared_error', mean_squared_error)\n"
   ]
  },
  {
   "cell_type": "code",
   "execution_count": 370,
   "metadata": {},
   "outputs": [
    {
     "data": {
      "text/plain": [
       "[<matplotlib.lines.Line2D at 0x7fb33c5de070>]"
      ]
     },
     "execution_count": 370,
     "metadata": {},
     "output_type": "execute_result"
    },
    {
     "data": {
      "image/png": "[encoded data removed]",
      "text/plain": [
       "<Figure size 432x288 with 1 Axes>"
      ]
     },
     "metadata": {},
     "output_type": "display_data"
    }
   ],
   "source": [
    "plt.plot(wdf['All states'])\n",
    "plt.plot(df2['Weekly U.S. Product Supplied of Petroleum Products Thousand Barrels per Day']*20)\n",
    "plt.plot(jet_df2['Weekly U.S. Product Supplied of Kerosene-Type Jet Fuel Thousand Barrels per Day']*70)"
   ]
  },
  {
   "cell_type": "code",
   "execution_count": null,
   "metadata": {},
   "outputs": [],
   "source": []
  }
 ],
 "metadata": {
  "kernelspec": {
   "display_name": "Python 3",
   "language": "python",
   "name": "python3"
  },
  "language_info": {
   "codemirror_mode": {
    "name": "ipython",
    "version": 3
   },
   "file_extension": ".py",
   "mimetype": "text/x-python",
   "name": "python",
   "nbconvert_exporter": "python",
   "pygments_lexer": "ipython3",
   "version": "3.8.5"
  }
 },
 "nbformat": 4,
 "nbformat_minor": 4
}
