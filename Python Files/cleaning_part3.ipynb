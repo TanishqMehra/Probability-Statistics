{
 "cells": [
  {
   "cell_type": "code",
   "execution_count": 74,
   "metadata": {},
   "outputs": [],
   "source": [
    "from sklearn.preprocessing import MinMaxScaler\n",
    "import math\n",
    "import pandas as pd\n",
    "import numpy as np\n",
    "import matplotlib.pyplot as plt\n",
    "import seaborn as sns\n",
    "import datetime as dt\n",
    "plt.style.use('ggplot')"
   ]
  },
  {
   "cell_type": "code",
   "execution_count": 75,
   "metadata": {},
   "outputs": [],
   "source": [
    "covid_data = pd.read_csv('12_final_processed.csv')"
   ]
  },
  {
   "cell_type": "markdown",
   "metadata": {},
   "source": [
    "**Using tukey's outliers detection to detect outliers in the covid data we have**\n",
    "\n",
    "\n",
    "*We found **104** outliers*\n",
    "Since the outliers hold a significant importance in our data, it might affect our further analysis and testing so we are avoiding the removal of outliers\n"
   ]
  },
  {
   "cell_type": "code",
   "execution_count": 77,
   "metadata": {},
   "outputs": [],
   "source": [
    "def tukeys_outliers(df, col_arr):\n",
    "    \"\"\"\n",
    "   We take all the columns of dataframe and find 1st and 3rd quartile and apply tukeys rule to find the outliers\n",
    "    \"\"\"\n",
    "    outlier_indices = []\n",
    "\n",
    "    for col in col_arr:\n",
    "        # 1st quartile (25%)\n",
    "        Q1 = np.percentile(df[col], 25)\n",
    "        # 3rd quartile (75%)\n",
    "        Q3 = np.percentile(df[col], 75)\n",
    "        # Interquartile range (IQR)\n",
    "        IQR = Q3 - Q1\n",
    "        outlier_cal = 1.5 * IQR\n",
    "\n",
    "        # Determine a list of indices of outliers for feature col\n",
    "        outlier_list_col = df[(df[col] < Q1 - outlier_cal) | (df[col] > Q3 + outlier_cal)].index\n",
    "        # append the found outlier indices for col to the list of outlier indices \n",
    "        outlier_indices.extend(outlier_list_col)\n",
    "#         print(df[(df[col] < Q1 - outlier_cal) | (df[col] > Q3 + outlier_cal)])\n",
    "#         print(\"outliers in \"+str(col) + \" : \" + str(len(outlier_indices)))\n",
    "    print(set(outlier_indices), len(set(outlier_indices)))  \n",
    "    df.iloc[list(set(outlier_indices))].to_csv('outlier_data.csv',index=False)\n",
    "    # select observations containing more than 2 outliers\n",
    "    outlier_indices = Counter(outlier_indices)        \n",
    "    multiple_outliers = list(k for k, v in outlier_indices.items())\n",
    "\n",
    "    return multiple_outliers"
   ]
  },
  {
   "cell_type": "code",
   "execution_count": 78,
   "metadata": {},
   "outputs": [
    {
     "name": "stdout",
     "output_type": "stream",
     "text": [
      "{79, 83, 84, 85, 90, 92, 94, 97, 101, 135, 267, 268, 269, 271, 274, 276, 277, 280, 281, 282, 284, 285, 287, 288, 289, 290, 291, 292, 293, 294, 295, 296, 297, 298, 299, 300, 301, 302, 303, 304, 305, 306, 307, 308, 309, 310, 311, 312, 313, 314, 315, 316, 317, 318, 319, 320, 321, 322, 323, 324, 325, 326, 327, 328, 329, 330, 331, 332, 333, 334, 335, 336, 337, 339, 342, 343, 344, 346, 347, 348, 349, 350, 351, 352, 353, 355, 357, 358, 364, 365, 367, 412, 425, 426, 427, 428, 429, 430, 432, 433, 434, 435, 436, 437} 104\n"
     ]
    }
   ],
   "source": [
    "col_arr = ['MI confirmed','MN confirmed','MI deaths','MN deaths']\n",
    "outliers = tukeys_outliers(covid_data, features)\n"
   ]
  },
  {
   "cell_type": "code",
   "execution_count": 1,
   "metadata": {},
   "outputs": [],
   "source": []
  },
  {
   "cell_type": "code",
   "execution_count": null,
   "metadata": {},
   "outputs": [],
   "source": []
  }
 ],
 "metadata": {
  "kernelspec": {
   "display_name": "Python 3",
   "language": "python",
   "name": "python3"
  },
  "language_info": {
   "codemirror_mode": {
    "name": "ipython",
    "version": 3
   },
   "file_extension": ".py",
   "mimetype": "text/x-python",
   "name": "python",
   "nbconvert_exporter": "python",
   "pygments_lexer": "ipython3",
   "version": "3.8.5"
  }
 },
 "nbformat": 4,
 "nbformat_minor": 4
}
