{
 "cells": [
  {
   "cell_type": "code",
   "execution_count": 39,
   "metadata": {},
   "outputs": [],
   "source": [
    "from collections import Counter\n",
    "from scipy.stats import gamma\n",
    "from sklearn.preprocessing import MinMaxScaler\n",
    "import math\n",
    "import pandas as pd\n",
    "import numpy as np\n",
    "import matplotlib.pyplot as plt\n",
    "import seaborn as sns\n",
    "import datetime as dt\n",
    "from datetime import date\n",
    "plt.style.use('ggplot')"
   ]
  },
  {
   "cell_type": "code",
   "execution_count": 40,
   "metadata": {},
   "outputs": [],
   "source": [
    "df = pd.read_csv('12_final_processed.csv')"
   ]
  },
  {
   "cell_type": "code",
   "execution_count": 41,
   "metadata": {},
   "outputs": [],
   "source": [
    "#Filtering out data for feb 21 and march 21 \n",
    "feb_21 = df[(df['Date'] >= '2021-02-01') & (df['Date'] <= '2021-02-28')]\n",
    "march_21 = df[(df['Date'] >= '2021-03-01') & (df['Date'] <= '2021-03-31')]"
   ]
  },
  {
   "cell_type": "code",
   "execution_count": 42,
   "metadata": {},
   "outputs": [],
   "source": [
    "#Calculating the mean for each state/column for feb 21 and march 21 \n",
    "\n",
    "feb_21_mean_death_MI = feb_21['MI deaths'].mean()\n",
    "feb_21_mean_cases_MI = feb_21['MI confirmed'].mean()\n",
    "\n",
    "\n",
    "march_21_mean_death_MI = march_21['MI deaths'].mean()\n",
    "march_21_mean_cases_MI = march_21['MI confirmed'].mean()\n",
    "\n",
    "\n",
    "feb_21_mean_death_MN = feb_21['MN deaths'].mean()\n",
    "feb_21_mean_cases_MN = feb_21['MN confirmed'].mean()\n",
    "\n",
    "\n",
    "march_21_mean_death_MN = march_21['MN deaths'].mean()\n",
    "march_21_mean_cases_MN = march_21['MN confirmed'].mean()\n",
    "\n",
    "#calculating corrected variance for use in tests\n",
    "\n",
    "def variance(col_data):\n",
    "    sq_sum = 0\n",
    "    mean_col_data = col_data.mean()\n",
    "    n = len(col_data)\n",
    "    for i in col_data:\n",
    "        sq_sum = sq_sum + (i -mean_col_data)*(i-mean_col_data)\n",
    "    return sq_sum/(n-1)"
   ]
  },
  {
   "cell_type": "markdown",
   "metadata": {},
   "source": [
    "**Summary of the results that we run below:**\n",
    "\n",
    "We *accept* the NULL hypothesis for deaths in MN for two population Wald's test, z-test, t-test and unpaired t-test\n",
    "\n",
    "We *accept* the NULL hypothesis for cases in MN for two sample unpaired t-test\n",
    "\n",
    "We *accept* the NULL hypothesis for death in MI for two sample unpaired t-test\n",
    "\n",
    "We *reject* the NULL hypothesis for all the other cases  \n",
    "\n",
    "\n",
    "\n"
   ]
  },
  {
   "cell_type": "markdown",
   "metadata": {},
   "source": [
    "**Wald's one Sample testing for confirmed cases and deaths in MI and MN**\n",
    "\n",
    "*NULL hypothesis* H0: mean of confirmed deaths/cases for feb 21 = mean of deaths/cases for march 21\n",
    "\n",
    "*Alternate hypothesis* H1: mean of confirmed deaths/cases for feb 21 != mean of deaths/cases for march 21 "
   ]
  },
  {
   "cell_type": "code",
   "execution_count": 43,
   "metadata": {},
   "outputs": [
    {
     "name": "stdout",
     "output_type": "stream",
     "text": [
      "Walds 1 sample testing for mean of death in MI is w=19.18673565170543 which is greater than z-alpha/2 = 1.96 so we reject the NULL hypothesis\n",
      "Walds 1 sample testing for mean of cases in MI is w=193.96139177500143 which is greater than z-alpha/2 = 1.96 so we reject the NULL hypothesis\n",
      "\n",
      "Walds 1 sample testing for mean of death in MN is w=2.4912289212760137 which is greater than z-alpha/2 = 1.96 so we reject the NULL hypothesis\n",
      "Walds 1 sample testing for mean of cases in MN is w=51.90948310795567 which is greater than z-alpha/2 = 1.96 so we reject the NULL hypothesis\n"
     ]
    }
   ],
   "source": [
    "# walds one sample testing for deaths and confirmed cases for both states \n",
    "\n",
    "def walds_1_testing(march_21_mean,feb_21_mean,march_21):\n",
    "  w_1_numerator = march_21_mean - feb_21_mean\n",
    "  w_1_denominator = np.sqrt(march_21_mean/len(march_21))\n",
    "  return np.abs(w_1_numerator/w_1_denominator)\n",
    "\n",
    "\n",
    "\n",
    "#for death in MI\n",
    "w_1_result_death_MI = walds_1_testing(march_21_mean_death_MI,feb_21_mean_death_MI,march_21)\n",
    "if(w_1_result_death_MI>1.96):\n",
    "  print(\"Walds 1 sample testing for mean of death in MI is w=\"+str(w_1_result_death_MI) +\" which is greater than z-alpha/2 = 1.96 so we reject the NULL hypothesis\")\n",
    "else:\n",
    "  print(\"Walds 1 sample testing for mean of death in MI is  w=\"+str(w_1_result_death_MI)+ \" which is less than z-alpha/2 = 1.96 so we accept the NULL hypothesis\")\n",
    "\n",
    "#for cases in MI\n",
    "w_1_result_cases_MI = walds_1_testing(march_21_mean_cases_MI,feb_21_mean_cases_MI,march_21)\n",
    "if(w_1_result_cases_MI>1.96):\n",
    "  print(\"Walds 1 sample testing for mean of cases in MI is w=\"+str(w_1_result_cases_MI) +\" which is greater than z-alpha/2 = 1.96 so we reject the NULL hypothesis\");\n",
    "else:\n",
    "  print(\"Walds 1 sample testing for mean of cases in MI is w=\"+str(w_1_result_cases_MI)+ \" which is less than z-alpha/2 = 1.96 so we accept the NULL hypothesis\")\n",
    "\n",
    "\n",
    "\n",
    "#for death in MN\n",
    "w_1_result_death_MN = walds_1_testing(march_21_mean_death_MN,feb_21_mean_death_MN,march_21)\n",
    "if(w_1_result_death_MN>1.96):\n",
    "  print(\"\\nWalds 1 sample testing for mean of death in MN is w=\"+str(w_1_result_death_MN) +\" which is greater than z-alpha/2 = 1.96 so we reject the NULL hypothesis\")\n",
    "else:\n",
    "  print(\"\\nWalds 1 sample testing for mean of death in MN is  w=\"+str(w_1_result_death_MN)+ \" which is less than z-alpha/2 = 1.96 so we accept the NULL hypothesis\")\n",
    "\n",
    "#for cases in MN\n",
    "w_1_result_cases_MN = walds_1_testing(march_21_mean_cases_MN,feb_21_mean_cases_MN,march_21)\n",
    "if(w_1_result_cases_MN>1.96):\n",
    "  print(\"Walds 1 sample testing for mean of cases in MN is w=\"+str(w_1_result_cases_MN) +\" which is greater than z-alpha/2 = 1.96 so we reject the NULL hypothesis\");\n",
    "else:\n",
    "  print(\"Walds 1 sample testing for mean of cases in MN is w=\"+str(w_1_result_cases_MN)+ \" which is less than z-alpha/2 = 1.96 so we accept the NULL hypothesis\")"
   ]
  },
  {
   "cell_type": "markdown",
   "metadata": {},
   "source": [
    "**Wald's two population testing for confirmed cases and deaths in MI and MN**\n",
    "\n",
    "*NULL hypothesis* H0: mean of confirmed deaths/cases for feb 21 = mean of deaths/cases for march 21\n",
    "\n",
    "*Alternate hypothesis* H1: mean of confirmed deaths/cases for feb 21 != mean of deaths/cases for march 21 "
   ]
  },
  {
   "cell_type": "code",
   "execution_count": 44,
   "metadata": {},
   "outputs": [
    {
     "name": "stdout",
     "output_type": "stream",
     "text": [
      "walds 2 sample testing for mean of death in MI is w=11.143749021603197 which is greater than z_alpha/2 = 1.96 so reject the NULL hypothesis\n",
      "walds 2 sample testing for mean of cases in MI is w=162.15637581729627 which is greater than z_alpha/2 = 1.96 so reject the NULL hypothesis\n",
      "\n",
      "walds 2 sample testing for mean of death in MN is w=1.7783708657644213 which is less than z_alpha/2 = 1.96 so accept the NULL hypothesis\n",
      "walds 2 sample testing for mean of cases in MN is w=38.69473932283188 which is greater than z_alpha/2 = 1.96 so reject the NULL hypothesis\n"
     ]
    }
   ],
   "source": [
    "##walds 2 population testing for deaths and confirmed cases for both states\n",
    "\n",
    "def walds_2_testing(march_21_mean,feb_21_mean,march_21, feb_21):\n",
    "    #using values of both months for calculating standard error\n",
    "  se = np.sqrt((march_21_mean/len(march_21)) + (feb_21_mean/len(feb_21))) \n",
    "  w_2_result = (march_21_mean - feb_21_mean)/se\n",
    "  return np.abs(w_2_result)\n",
    "\n",
    "\n",
    "#for death calculation in MI\n",
    "w_2_result_death_MI = walds_2_testing(march_21_mean_death_MI,feb_21_mean_death_MI,march_21, feb_21)\n",
    "if(w_2_result_death_MI>1.96):\n",
    "  print(\"walds 2 sample testing for mean of death in MI is w=\"+str(w_2_result_death_MI) +\" which is greater than z_alpha/2 = 1.96 so reject the NULL hypothesis\")\n",
    "else:\n",
    "  print(\"walds 2 sample testing for mean of death in MI is w=\"+str(w_2_result_death_MI)+ \" which is less than z_alpha/2 = 1.96 so accept the NULL hypothesis\")\n",
    "\n",
    "\n",
    "\n",
    "#for cases calculation in MI\n",
    "w_2_result_cases_MI = walds_2_testing(march_21_mean_cases_MI,feb_21_mean_cases_MI,march_21, feb_21)\n",
    "if(w_2_result_cases_MI>1.96):\n",
    "  print(\"walds 2 sample testing for mean of cases in MI is w=\"+str(w_2_result_cases_MI) +\" which is greater than z_alpha/2 = 1.96 so reject the NULL hypothesis\")\n",
    "else:\n",
    "  print(\"walds 2 sample testing for mean of cases in MI is w=\"+str(w_2_result_cases_MI)+ \" which is less than z_alpha/2 = 1.96 so accept the NULL hypothesis\")\n",
    "\n",
    "\n",
    "#for death calculation in MN\n",
    "w_2_result_death_MN = walds_2_testing(march_21_mean_death_MN,feb_21_mean_death_MN,march_21, feb_21)\n",
    "if(w_2_result_death_MN>1.96):\n",
    "  print(\"\\nwalds 2 sample testing for mean of death in MN is w=\"+str(w_2_result_death_MN) +\" which is greater than z_alpha/2 = 1.96 so reject the NULL hypothesis\")\n",
    "else:\n",
    "  print(\"\\nwalds 2 sample testing for mean of death in MN is w=\"+str(w_2_result_death_MN)+ \" which is less than z_alpha/2 = 1.96 so accept the NULL hypothesis\")\n",
    "\n",
    "\n",
    "\n",
    "#for cases calculation in MN\n",
    "w_2_result_cases_MN = walds_2_testing(march_21_mean_cases_MN,feb_21_mean_cases_MN,march_21, feb_21)\n",
    "if(w_2_result_cases_MN>1.96):\n",
    "  print(\"walds 2 sample testing for mean of cases in MN is w=\"+str(w_2_result_cases_MN) +\" which is greater than z_alpha/2 = 1.96 so reject the NULL hypothesis\")\n",
    "else:\n",
    "  print(\"walds 2 sample testing for mean of cases in MN is w=\"+str(w_2_result_cases_MN)+ \" which is less than z_alpha/2 = 1.96 so accept the NULL hypothesis\")"
   ]
  },
  {
   "cell_type": "markdown",
   "metadata": {},
   "source": [
    "**z-testing for confirmed cases and deaths in MI and MN**\n",
    "\n",
    "*NULL hypothesis* H0: mean of confirmed deaths/cases for feb 21 = mean of deaths/cases for march 21\n",
    "\n",
    "*Alternate hypothesis* H1: mean of confirmed deaths/cases for feb 21 != mean of deaths/cases for march 21 "
   ]
  },
  {
   "cell_type": "code",
   "execution_count": 48,
   "metadata": {},
   "outputs": [
    {
     "name": "stdout",
     "output_type": "stream",
     "text": [
      "z-test for mean of death in MI is w=[5.66552914] which is greater than z_alpha/2 = 1.96 so reject the NULL hypothesis\n",
      "z-test for mean of cases in MI is w=[16.52716098] which is greater than z_alpha/2 = 1.96 so reject the NULL hypothesis\n",
      "\n",
      "z-test for mean of death in MN is  w=[1.47842417] which is less than z_alpha/2 = 1.96 so accept the NULL hypothesis\n",
      "z-test for mean of cases in MN is w=[3.54678737] which is greater than z_alpha/2 = 1.96 so reject the NULL hypothesis\n"
     ]
    }
   ],
   "source": [
    "#z testing for deaths and confirmed cases for both states\n",
    "\n",
    "def z_test(march_21_mean, feb_21_mean, col_name):\n",
    "    z_num = march_21_mean - feb_21_mean\n",
    "    z_den = np.sqrt(variance(df[[col_name]].values)/(len(df)))\n",
    "\n",
    "    z_result = np.abs(z_num/z_den)\n",
    "    return z_result\n",
    "\n",
    "\n",
    "#for death in MI\n",
    "z_result_death_MI = z_test(march_21_mean_death_MI, feb_21_mean_death_MI, 'MI deaths')\n",
    "if(z_result_death_MI>1.96):\n",
    "  print(\"z-test for mean of death in MI is w=\"+str(z_result_death_MI) +\" which is greater than z_alpha/2 = 1.96 so reject the NULL hypothesis\")\n",
    "else:\n",
    "  print(\"z-test for mean of death in MI is  w=\"+str(z_result_death_MI)+ \" which is less than z_alpha/2 = 1.96 so accept the NULL hypothesis\")\n",
    "\n",
    "#for cases in MI\n",
    "z_result_cases_MI = z_test(march_21_mean_cases_MI, feb_21_mean_cases_MI, 'MI confirmed')\n",
    "if(z_result_cases_MI>1.96):\n",
    "  print(\"z-test for mean of cases in MI is w=\"+str(z_result_cases_MI) +\" which is greater than z_alpha/2 = 1.96 so reject the NULL hypothesis\")\n",
    "else:\n",
    "  print(\"z-test for mean of cases in MI is w=\"+str(z_result_cases_MI)+ \" which is less than z_alpha/2 = 1.96 so accept the NULL hypothesis\")\n",
    "\n",
    "#for death in MN\n",
    "z_result_death_MN = z_test(march_21_mean_death_MN, feb_21_mean_death_MN, 'MN deaths')\n",
    "if(z_result_death_MN>1.96):\n",
    "  print(\"z-test for mean of death in MN is w=\"+str(z_result_death_MN) +\" which is greater than z_alpha/2 = 1.96 so reject the NULL hypothesis\")\n",
    "else:\n",
    "  print(\"\\nz-test for mean of death in MN is  w=\"+str(z_result_death_MN)+ \" which is less than z_alpha/2 = 1.96 so accept the NULL hypothesis\")\n",
    "\n",
    "#for cases in MN\n",
    "z_result_cases_MN = z_test(march_21_mean_cases_MN, feb_21_mean_cases_MN, 'MN confirmed')\n",
    "if(z_result_cases_MN>1.96):\n",
    "  print(\"z-test for mean of cases in MN is w=\"+str(z_result_cases_MN) +\" which is greater than z_alpha/2 = 1.96 so reject the NULL hypothesis\")\n",
    "else:\n",
    "  print(\"z-test for mean of cases in MN is w=\"+str(z_result_cases_MN)+ \" which is less than z_alpha/2 = 1.96 so accept the NULL hypothesis\")\n"
   ]
  },
  {
   "cell_type": "markdown",
   "metadata": {},
   "source": [
    "**Assumptions in z-test/ Is z-test applicable?**\n",
    "\n",
    "z test only works if either the data is large or normally distributed\n",
    "Here, the data points are greater than 30. So, we can say that z-test is applicable eventhough data is not normally distributed."
   ]
  },
  {
   "cell_type": "markdown",
   "metadata": {},
   "source": [
    "\n",
    "\n",
    "\n",
    "\n",
    "\n"
   ]
  },
  {
   "cell_type": "markdown",
   "metadata": {},
   "source": [
    "**T one sample testing for confirmed cases and deaths in MI and MN**\n",
    "\n",
    "*NULL hypothesis* H0: mean of confirmed deaths/cases for feb 21 = mean of deaths/cases for march 21\n",
    "\n",
    "*Alternate hypothesis* H1: mean of confirmed deaths/cases for feb 21 != mean of deaths/cases for march 21 "
   ]
  },
  {
   "cell_type": "code",
   "execution_count": 38,
   "metadata": {},
   "outputs": [
    {
     "name": "stdout",
     "output_type": "stream",
     "text": [
      "T-Test 1 sample testing for mean of death in MI is T1=[5.28586887] which is greater than t(n-1,alpha/2) = 2.3596 so reject the NULL hypothesis\n",
      "T-Test 1 sample testing for mean of cases in MI is T1=[4.86763697] which is greater than t(n-1,alpha/2) = 2.3596 so reject the NULL hypothesis\n",
      "\n",
      "T-Test 1 sample testing for mean of death in MN is  T1=[0.35109704] which is less than t(n-1,alpha/2) = 2.3596 so accept the NULL hypothesis\n",
      "T-Test 1 sample testing for mean of cases in MN is T1=[4.63262675] which is greater than t(n-1,alpha/2) = 2.3596 so reject the NULL hypothesis\n"
     ]
    }
   ],
   "source": [
    "\n",
    "# T one sample testing for deaths and confirmed cases for both states\n",
    "\n",
    "def T_1_sample(col,march_21_mean,feb_21_mean,march_21):\n",
    "  t_1_num = march_21_mean - feb_21_mean\n",
    "  t_1_den = np.sqrt(variance(march_21[[col]].values)/len(march_21))\n",
    "  return np.abs(t_1_num/t_1_den)\n",
    "\n",
    "# for deaths in MI\n",
    "t_1_result_death_MI =T_1_sample('MI deaths',march_21_mean_death_MI,feb_21_mean_death_MI,march_21)\n",
    "if(t_1_result_death_MI>2.3596):\n",
    "  print(\"T-Test 1 sample testing for mean of death in MI is T1=\"+str(t_1_result_death_MI) +\" which is greater than t(n-1,alpha/2) = 2.3596 so reject the NULL hypothesis\")\n",
    "else:\n",
    "  print(\"T-Test 1 sample testing for mean of death in MI is  T1=\"+str(t_1_result_death_MI)+ \" which is less than t(n-1,alpha/2) = 2.3596 so accept the NULL hypothesis\")\n",
    "\n",
    "\n",
    "# for cases in MI\n",
    "t_1_result_cases_MI =T_1_sample('MI confirmed',march_21_mean_cases_MI,feb_21_mean_cases_MI,march_21)\n",
    "if(t_1_result_cases_MI>2.3596):\n",
    "  print(\"T-Test 1 sample testing for mean of cases in MI is T1=\"+str(t_1_result_cases_MI) +\" which is greater than t(n-1,alpha/2) = 2.3596 so reject the NULL hypothesis\")\n",
    "else:\n",
    "  print(\"T-Test 1 sample testing for mean of cases in MI is T1=\"+str(t_1_result_cases_MI)+ \" which is less than t(n-1,alpha/2) = 2.3596 so accept the NULL hypothesis\")\n",
    "\n",
    "# for deaths in MN\n",
    "t_1_result_death_MN =T_1_sample('MN deaths',march_21_mean_death_MN,feb_21_mean_death_MN,march_21)\n",
    "if(t_1_result_death_MN>2.3596):\n",
    "  print(\"T-Test 1 sample testing for mean of death in MN is T1=\"+str(t_1_result_death_MN) +\" which is greater than t(n-1,alpha/2) = 2.3596 so reject the NULL hypothesis\")\n",
    "else:\n",
    "  print(\"\\nT-Test 1 sample testing for mean of death in MN is  T1=\"+str(t_1_result_death_MN)+ \" which is less than t(n-1,alpha/2) = 2.3596 so accept the NULL hypothesis\")\n",
    "\n",
    "\n",
    "# for cases in MN\n",
    "t_1_result_cases_MN =T_1_sample('MN confirmed',march_21_mean_cases_MN,feb_21_mean_cases_MN,march_21)\n",
    "if(t_1_result_cases_MN>2.3596):\n",
    "  print(\"T-Test 1 sample testing for mean of cases in MN is T1=\"+str(t_1_result_cases_MN) +\" which is greater than t(n-1,alpha/2) = 2.3596 so reject the NULL hypothesis\")\n",
    "else:\n",
    "  print(\"T-Test 1 sample testing for mean of cases in MN is T1=\"+str(t_1_result_cases_MN)+ \" which is less than t(n-1,alpha/2) = 2.3596 so accept the NULL hypothesis\")\n",
    "\n"
   ]
  },
  {
   "cell_type": "markdown",
   "metadata": {},
   "source": [
    "**Assumptions/Is t-test applicable?**\n",
    "\n",
    "For this course T-test assumes that the data is normally distributed. But here we do not have normally distributed data so it is not a right choice to apply t-test\n"
   ]
  },
  {
   "cell_type": "markdown",
   "metadata": {},
   "source": [
    "**T two sample testing for confirmed cases and deaths in MI and MN**\n",
    "\n",
    "*NULL hypothesis* H0: mean of confirmed deaths/cases for feb 21 = mean of deaths/cases for march 21\n",
    "\n",
    "*Alternate hypothesis* H1: mean of confirmed deaths/cases for feb 21 != mean of deaths/cases for march 21 "
   ]
  },
  {
   "cell_type": "code",
   "execution_count": 21,
   "metadata": {},
   "outputs": [
    {
     "name": "stdout",
     "output_type": "stream",
     "text": [
      "T two sample unpaired  testing for mean of death in MI is T=[2.18521476] which is less than t(57,alpha/2) = 2.3022 so accept the NULL hypothesis\n",
      "T two sample unpaired  testing for mean of cases in MI is T=[4.67047039] which is greater than t(57,alpha/2) = 2.3022 so reject the NULL hypothesis\n",
      "\n",
      "T two sample unpaired  testing for mean of death in MN is T=[0.21816034] which is less than t(57,alpha/2) = 2.3022 so accept the NULL hypothesis\n",
      "T two sample unpaired  testing for mean of cases in MN is T=[0.7358662] which is less than t(57,alpha/2) = 2.3022 so accept the NULL hypothesis\n"
     ]
    }
   ],
   "source": [
    "# Unpaired T two sample testing for deaths and confirmed cases for both states.\n",
    "#Here we consider both samples so m=31 and n =28 so threshold will be t(n+m-2, alpha/2)\n",
    "\n",
    "def unpaired_T(feb_21_mean, march_21_mean, col):\n",
    "    T2_num = feb_21_mean - march_21_mean\n",
    "\n",
    "    feb_21_var = variance(feb_21[[col]].values)\n",
    "    march_21_var = variance(march_21[[col]].values)\n",
    "    T2_den = np.sqrt(march_21_var/len(march_21) + feb_21_var/len(feb_21))\n",
    "\n",
    "    #T test unpaired result\n",
    "    return np.abs(T2_num/T2_den)\n",
    "\n",
    "# T 2 sample test for deaths in MI\n",
    "T2_death_MI = unpaired_T(feb_21_mean_death_MI, march_21_mean_death_MI, 'MI deaths')\n",
    "if(T2_death_MI>2.3022):\n",
    "  print(\"T two sample unpaired  testing for mean of death in MI is T=\"+str(T2_death_MI) +\" which is greater than t(57,alpha/2) = 2.3022 so reject the NULL hypothesis\")\n",
    "else:\n",
    "  print(\"T two sample unpaired  testing for mean of death in MI is T=\"+str(T2_death_MI)+ \" which is less than t(57,alpha/2) = 2.3022 so accept the NULL hypothesis\")\n",
    "\n",
    "\n",
    "# T 2 sample test for cases in MI\n",
    "T2_cases_MI = unpaired_T(feb_21_mean_cases_MI, march_21_mean_cases_MI, 'MI confirmed')\n",
    "if(T2_cases_MI>2.3022):\n",
    "  print(\"T two sample unpaired  testing for mean of cases in MI is T=\"+str(T2_cases_MI) +\" which is greater than t(57,alpha/2) = 2.3022 so reject the NULL hypothesis\")\n",
    "else:\n",
    "  print(\"T two sample unpaired  testing for mean of cases in MI is T=\"+str(T2_cases_MI)+ \" which is less than t(57,alpha/2) = 2.3022 so accept the NULL hypothesis\")\n",
    "\n",
    "# T 2 sample test for deaths in MN\n",
    "T2_death_MN = unpaired_T(feb_21_mean_death_MN, march_21_mean_death_MN, 'MI deaths')\n",
    "if(T2_death_MN>2.3022):\n",
    "  print(\"T two sample unpaired  testing for mean of death in MN is T=\"+str(T2_death_MN) +\" which is greater than t(57,alpha/2) = 2.3022 so reject the NULL hypothesis\")\n",
    "else:\n",
    "  print(\"\\nT two sample unpaired  testing for mean of death in MN is T=\"+str(T2_death_MN)+ \" which is less than t(57,alpha/2) = 2.3022 so accept the NULL hypothesis\")\n",
    "\n",
    "\n",
    "# T 2 sample test for cases in MN\n",
    "T2_cases_MN = unpaired_T(feb_21_mean_cases_MN, march_21_mean_cases_MN, 'MI confirmed')\n",
    "if(T2_cases_MN>2.3022):\n",
    "  print(\"T two sample unpaired  testing for mean of cases in MN is T=\"+str(T2_cases_MN) +\" which is greater than t(57,alpha/2) = 2.3022 so reject the NULL hypothesis\")\n",
    "else:\n",
    "  print(\"T two sample unpaired  testing for mean of cases in MN is T=\"+str(T2_cases_MN)+ \" which is less than t(57,alpha/2) = 2.3022 so accept the NULL hypothesis\")\n"
   ]
  },
  {
   "cell_type": "markdown",
   "metadata": {},
   "source": []
  }
 ],
 "metadata": {
  "kernelspec": {
   "display_name": "Python 3",
   "language": "python",
   "name": "python3"
  },
  "language_info": {
   "codemirror_mode": {
    "name": "ipython",
    "version": 3
   },
   "file_extension": ".py",
   "mimetype": "text/x-python",
   "name": "python",
   "nbconvert_exporter": "python",
   "pygments_lexer": "ipython3",
   "version": "3.8.5"
  }
 },
 "nbformat": 4,
 "nbformat_minor": 4
}
