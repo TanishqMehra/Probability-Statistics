{
 "cells": [
  {
   "cell_type": "code",
   "execution_count": 2,
   "metadata": {},
   "outputs": [],
   "source": [
    "import math\n",
    "import pandas as pd\n",
    "import numpy as np\n",
    "import matplotlib.pyplot as plt\n",
    "import datetime as dt\n",
    "from datetime import date\n",
    "from datetime import datetime"
   ]
  },
  {
   "cell_type": "markdown",
   "metadata": {},
   "source": [
    "**Data Preprocessing and formatting part**"
   ]
  },
  {
   "cell_type": "code",
   "execution_count": null,
   "metadata": {},
   "outputs": [],
   "source": [
    "ExpData = pd.read_csv('US_confirmed.csv',index_col=0)\n",
    "df = ExpData - ExpData.shift(axis=1).fillna(0)\n",
    "df = df.transpose()\n",
    "#We manually chnage the State to date after transpose since the file gets changed\n",
    "df.drop([0,1]) # for dropping top two values to match the Y dataset\n",
    "df['Date'] = df['Date'].astype('datetime64[ns]')#convert daily data to weekly\n",
    "weekly_df = df.resample('W-Fri', label='right', closed = 'right', on='Date').mean().reset_index().sort_values(by='Date')\n",
    "a = list(weekly_df.columns[1:52])\n",
    "weekly_df['All states'] = weekly_df[a].sum(axis=1)\n",
    "weekly_df = weekly_df.drop(a, axis = 1)\n",
    "#saved this to csv file and created US_confirmed_weekly.csv that we attach in the zip file "
   ]
  },
  {
   "cell_type": "markdown",
   "metadata": {},
   "source": [
    "**Pearson's Correlation**"
   ]
  },
  {
   "cell_type": "code",
   "execution_count": 30,
   "metadata": {},
   "outputs": [],
   "source": [
    "wdf = pd.read_csv('US_confirmed_weekly.csv')"
   ]
  },
  {
   "cell_type": "code",
   "execution_count": 31,
   "metadata": {},
   "outputs": [],
   "source": [
    "df2 = pd.read_csv('Weekly_U.S._Product_Supplied_of_Kerosene-Type_Jet_Fuel.csv')\n",
    "jet_df = df2[(df2['Week of'] >= '2020-01-24') & (df2['Week of'] <= '2021-04-09')]\n",
    "jet_df = jet_df.sort_values('Week of')"
   ]
  },
  {
   "cell_type": "code",
   "execution_count": 32,
   "metadata": {},
   "outputs": [],
   "source": [
    "jet_df = jet_df[(jet_df['Week of'] >= '2020-01-01') & (jet_df['Week of'] <= '2020-07-01')]\n",
    "wdf = wdf[(wdf['Date'] >= '2020-01-01') & (wdf['Date'] <= '2020-07-01')]"
   ]
  },
  {
   "cell_type": "code",
   "execution_count": 34,
   "metadata": {},
   "outputs": [
    {
     "name": "stdout",
     "output_type": "stream",
     "text": [
      "correlation between all states and Weekly U.S. Product Supplied of Kerosene-Type Jet Fuel Thousand Barrels per Day for the period of march to july is  -0.9394373097595258\n"
     ]
    }
   ],
   "source": [
    "Y = jet_df['Weekly U.S. Product Supplied of Kerosene-Type Jet Fuel Thousand Barrels per Day']\n",
    "X = wdf['All states']\n",
    "#calculating sample means \n",
    "sample_mean_x = np.mean(X)\n",
    "sample_mean_y = np.mean(Y)\n",
    "#calculating numerator and denominator for correlation coeff\n",
    "num_corr = np.sum(np.dot([i - sample_mean_x for i in X], [i - sample_mean_y for i in Y]))\n",
    "deno_corr = np.sqrt(sum(np.square([i - sample_mean_x for i in X])) * sum(np.square([i - sample_mean_y for i in Y])))\n",
    "print('correlation between all states and Weekly U.S. Product Supplied of Kerosene-Type Jet Fuel Thousand Barrels per Day for the period of march to july is ', num_corr/deno_corr)"
   ]
  },
  {
   "cell_type": "code",
   "execution_count": null,
   "metadata": {},
   "outputs": [],
   "source": []
  }
 ],
 "metadata": {
  "kernelspec": {
   "display_name": "Python 3",
   "language": "python",
   "name": "python3"
  },
  "language_info": {
   "codemirror_mode": {
    "name": "ipython",
    "version": 3
   },
   "file_extension": ".py",
   "mimetype": "text/x-python",
   "name": "python",
   "nbconvert_exporter": "python",
   "pygments_lexer": "ipython3",
   "version": "3.8.5"
  }
 },
 "nbformat": 4,
 "nbformat_minor": 4
}
